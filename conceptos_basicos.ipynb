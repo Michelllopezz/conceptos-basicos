{
  "nbformat": 4,
  "nbformat_minor": 0,
  "metadata": {
    "colab": {
      "provenance": [],
      "authorship_tag": "ABX9TyOy0MDojBKmfX+3QFn1mkga",
      "include_colab_link": true
    },
    "kernelspec": {
      "name": "python3",
      "display_name": "Python 3"
    },
    "language_info": {
      "name": "python"
    }
  },
  "cells": [
    {
      "cell_type": "markdown",
      "metadata": {
        "id": "view-in-github",
        "colab_type": "text"
      },
      "source": [
        "<a href=\"https://colab.research.google.com/github/Michelllopezz/conceptos-basicos/blob/main/conceptos_basicos.ipynb\" target=\"_parent\"><img src=\"https://colab.research.google.com/assets/colab-badge.svg\" alt=\"Open In Colab\"/></a>"
      ]
    },
    {
      "cell_type": "markdown",
      "source": [
        "**Conceptos basicos - michell lopez**"
      ],
      "metadata": {
        "id": "mRhk8-B_sW9r"
      }
    },
    {
      "cell_type": "markdown",
      "source": [
        "Tipos de variables"
      ],
      "metadata": {
        "id": "W76lgGqwt3ae"
      }
    },
    {
      "cell_type": "code",
      "source": [
        "x = 1 # entero\n",
        "\n",
        "y = 2.5 # float\n",
        "\n",
        "nombre = 'michell' # string\n",
        "\n",
        "print(type(x))\n",
        "print(type(y))\n",
        "print(type(nombre))\n",
        "\n",
        "\n"
      ],
      "metadata": {
        "colab": {
          "base_uri": "https://localhost:8080/"
        },
        "id": "6tDrlAnHty6P",
        "outputId": "799454b8-f198-48d0-b84b-833c8eab1973"
      },
      "execution_count": null,
      "outputs": [
        {
          "output_type": "stream",
          "name": "stdout",
          "text": [
            "<class 'int'>\n",
            "<class 'float'>\n",
            "<class 'str'>\n"
          ]
        }
      ]
    },
    {
      "cell_type": "code",
      "source": [
        "# solicitar el nombre del usuario\n",
        "nmombre = input('ingrese su nombre')\n",
        "# solicitar la edad del usuario y convertirla a entero\n"
      ],
      "metadata": {
        "id": "vjD3L0I_gLnn"
      },
      "execution_count": null,
      "outputs": []
    },
    {
      "cell_type": "markdown",
      "metadata": {
        "id": "eb3006c7"
      },
      "source": [
        "**Explicación del código:**\n",
        "\n",
        "1.  **`nombre = input(\"Por favor, ingresa tu nombre: \")`**: Esta línea solicita al usuario que ingrese su nombre. La función `input()` muestra el mensaje dentro de los paréntesis y espera a que el usuario escriba algo y presione Enter. El texto ingresado se almacena en la variable `nombre`.\n",
        "\n",
        "2.  **`edad = int(input(\"Por favor, ingresa tu edad: \"))`**: Similar a la línea anterior, esta línea solicita la edad del usuario. Sin embargo, la función `input()` devuelve siempre una cadena de texto. Para poder realizar operaciones matemáticas con la edad, la convertimos a un número entero utilizando la función `int()`. El valor entero se almacena en la variable `edad`.\n",
        "\n",
        "3.  **`edad_en_5_años = edad + 5`**: Aquí realizamos la operación matemática. Sumamos 5 al valor almacenado en la variable `edad` y el resultado lo guardamos en una nueva variable llamada `edad_en_5_años`.\n",
        "\n",
        "4.  **`print(f\"¡Hola, {nombre}! En 5 años tendrás {edad_en_5_años} años.\")`**: Finalmente, esta línea imprime el mensaje de saludo. Usamos una f-string (cadena formateada) que nos permite insertar fácilmente los valores de las variables `nombre` y `edad_en_5_años` dentro de la cadena de texto. El mensaje final se muestra en la salida."
      ]
    },
    {
      "cell_type": "code",
      "metadata": {
        "colab": {
          "base_uri": "https://localhost:8080/"
        },
        "id": "e07401b3",
        "outputId": "8adff554-df1e-4657-98b4-cd6e22792b0d"
      },
      "source": [
        "# Solicitar el nombre del usuario\n",
        "nombre = input(\"Por favor, ingresa tu nombre: \")\n",
        "\n",
        "# Solicitar la edad del usuario y convertirla a entero\n",
        "edad = int(input(\"Por favor, ingresa tu edad: \"))\n",
        "\n",
        "# Calcular la edad en 5 años\n",
        "edad_en_5_años = edad + 5\n",
        "\n",
        "# Imprimir el mensaje de saludo\n",
        "print(f\"¡Hola, {nombre}! En 5 años tendrás {edad_en_5_años} años.\")"
      ],
      "execution_count": null,
      "outputs": [
        {
          "output_type": "stream",
          "name": "stdout",
          "text": [
            "Por favor, ingresa tu nombre: michell\n",
            "Por favor, ingresa tu edad: 19\n",
            "¡Hola, michell! En 5 años tendrás 24 años.\n"
          ]
        }
      ]
    },
    {
      "cell_type": "code",
      "source": [
        "#crear lista\n",
        "mi_lista = [1, 2, 3, 4, 5]\n",
        "print(mi_lista)\n"
      ],
      "metadata": {
        "colab": {
          "base_uri": "https://localhost:8080/"
        },
        "id": "F4iF11Plk71O",
        "outputId": "2bc6ff02-8bd3-4d45-eff9-6538fc184f4d"
      },
      "execution_count": null,
      "outputs": [
        {
          "output_type": "stream",
          "name": "stdout",
          "text": [
            "[1, 2, 3, 4, 5]\n"
          ]
        }
      ]
    },
    {
      "cell_type": "code",
      "source": [
        "print(mi_lista[4])\n"
      ],
      "metadata": {
        "colab": {
          "base_uri": "https://localhost:8080/"
        },
        "id": "451qFsnMlF0Y",
        "outputId": "9626408b-6e2b-4e55-d111-8f4e8f571767"
      },
      "execution_count": null,
      "outputs": [
        {
          "output_type": "stream",
          "name": "stdout",
          "text": [
            "5\n"
          ]
        }
      ]
    },
    {
      "cell_type": "code",
      "source": [
        "print(len(mi_lista))\n"
      ],
      "metadata": {
        "colab": {
          "base_uri": "https://localhost:8080/"
        },
        "id": "iPBBdZ7Qlhk-",
        "outputId": "df36cda8-747e-4134-f55b-a3e4f8524373"
      },
      "execution_count": null,
      "outputs": [
        {
          "output_type": "stream",
          "name": "stdout",
          "text": [
            "5\n"
          ]
        }
      ]
    },
    {
      "cell_type": "code",
      "source": [
        "mi_lista.append(6)\n",
        "print(mi_lista)"
      ],
      "metadata": {
        "colab": {
          "base_uri": "https://localhost:8080/"
        },
        "id": "wtCef3qWlqTf",
        "outputId": "f36d465b-6774-4193-c7b6-00603672c2bf"
      },
      "execution_count": null,
      "outputs": [
        {
          "output_type": "stream",
          "name": "stdout",
          "text": [
            "[1, 2, 3, 4, 5, 6]\n"
          ]
        }
      ]
    },
    {
      "cell_type": "code",
      "source": [
        "frutas = ['manzana', 'banana', 'cereza']\n",
        "frutas.append('mango')\n",
        "print(frutas)\n"
      ],
      "metadata": {
        "colab": {
          "base_uri": "https://localhost:8080/"
        },
        "id": "lEiRwpmOl33C",
        "outputId": "b1e01d48-7721-42dd-8d75-3175a86dfc6b"
      },
      "execution_count": null,
      "outputs": [
        {
          "output_type": "stream",
          "name": "stdout",
          "text": [
            "['manzana', 'banana', 'cereza', 'mango']\n"
          ]
        }
      ]
    },
    {
      "cell_type": "code",
      "source": [
        "frutas.remove('banana')\n",
        "print(frutas)"
      ],
      "metadata": {
        "colab": {
          "base_uri": "https://localhost:8080/"
        },
        "id": "xKrl90N-mfKN",
        "outputId": "ebedab5c-65e0-437b-dbf0-21bb85a06e1e"
      },
      "execution_count": null,
      "outputs": [
        {
          "output_type": "stream",
          "name": "stdout",
          "text": [
            "['manzana', 'cereza', 'mango']\n"
          ]
        }
      ]
    },
    {
      "cell_type": "code",
      "source": [
        "frutas[0]='fresa'\n",
        "print(frutas)\n"
      ],
      "metadata": {
        "colab": {
          "base_uri": "https://localhost:8080/"
        },
        "id": "ftB4TUmEmmY8",
        "outputId": "af87c5de-d718-4a9a-a899-9b32fcdf6990"
      },
      "execution_count": null,
      "outputs": [
        {
          "output_type": "stream",
          "name": "stdout",
          "text": [
            "['fresa', 'cereza', 'mango']\n"
          ]
        }
      ]
    },
    {
      "cell_type": "code",
      "source": [
        "# 1. Pedir al usuario ingresar la edad\n",
        "edad = int(input(\"Por favor, ingresa la edad de la persona: \"))\n",
        "\n",
        "# 2. Determinar la categoría de edad\n",
        "if edad < 2:\n",
        "    categoria = \"Infante\"\n",
        "elif 2 <= edad <= 12:\n",
        "    categoria = \"Niño\"\n",
        "elif 13 <= edad <= 17:\n",
        "    categoria = \"Adolescente\"\n",
        "elif 18 <= edad <= 64:\n",
        "    categoria = \"Adulto\"\n",
        "else:\n",
        "    categoria = \"Senior\"\n",
        "\n",
        "# 3. Imprimir el mensaje\n",
        "print(f\"La persona se encuentra en la categoría: {categoria}\")"
      ],
      "metadata": {
        "colab": {
          "base_uri": "https://localhost:8080/"
        },
        "id": "LkoheqlcuXCA",
        "outputId": "537bacf9-4cc1-412b-8c36-bc8fa297fcc7"
      },
      "execution_count": null,
      "outputs": [
        {
          "output_type": "stream",
          "name": "stdout",
          "text": [
            "Por favor, ingresa la edad de la persona: 24\n",
            "La persona se encuentra en la categoría: Adulto\n"
          ]
        }
      ]
    },
    {
      "cell_type": "code",
      "source": [
        "# BUCLE FOR\n",
        "frutas = ['manzana', 'banana', 'cereza']\n",
        "for nuevo in frutas:\n",
        "    print('me gusta comer' fruta)\n",
        ""
      ],
      "metadata": {
        "colab": {
          "base_uri": "https://localhost:8080/"
        },
        "id": "qtbIL7bPfkJA",
        "outputId": "90361369-9ec8-4d48-c954-0ddb0595d91d"
      },
      "execution_count": 2,
      "outputs": [
        {
          "output_type": "stream",
          "name": "stdout",
          "text": [
            "me gusta comer manzana\n",
            "me gusta comer banana\n",
            "me gusta comer cereza\n"
          ]
        }
      ]
    },
    {
      "cell_type": "code",
      "source": [],
      "metadata": {
        "id": "20CbRPnJgD8R"
      },
      "execution_count": null,
      "outputs": []
    },
    {
      "cell_type": "code",
      "metadata": {
        "colab": {
          "base_uri": "https://localhost:8080/"
        },
        "id": "40de2c90",
        "outputId": "939622dc-d2ba-4457-cbfb-b5c85c63bc39"
      },
      "source": [
        "# Bucle while\n",
        "contador = 0\n",
        "while contador < 5:\n",
        "  print(f\"El contador es: {contador}\")\n",
        "  contador += 1\n",
        "\n",
        "print(\"Fin del bucle while\")"
      ],
      "execution_count": 3,
      "outputs": [
        {
          "output_type": "stream",
          "name": "stdout",
          "text": [
            "El contador es: 0\n",
            "El contador es: 1\n",
            "El contador es: 2\n",
            "El contador es: 3\n",
            "El contador es: 4\n",
            "Fin del bucle while\n"
          ]
        }
      ]
    },
    {
      "cell_type": "markdown",
      "source": [
        "**FUNCIONES**\n",
        "\n"
      ],
      "metadata": {
        "id": "nf9xmlAGgjgM"
      }
    },
    {
      "cell_type": "code",
      "source": [
        "def saludo():\n",
        "  print('hola yahanna')"
      ],
      "metadata": {
        "id": "GfoexWOggpgu"
      },
      "execution_count": 4,
      "outputs": []
    },
    {
      "cell_type": "code",
      "source": [
        "saludo()"
      ],
      "metadata": {
        "colab": {
          "base_uri": "https://localhost:8080/"
        },
        "id": "jyt2yjGDg3G4",
        "outputId": "fb8d7c03-e1a8-40d1-abe7-ce4b43d19ea9"
      },
      "execution_count": 5,
      "outputs": [
        {
          "output_type": "stream",
          "name": "stdout",
          "text": [
            "hola yahanna\n"
          ]
        }
      ]
    },
    {
      "cell_type": "code",
      "source": [
        "\tdef sumatoria (numero1, numero2):\n",
        "\t\tresultado = numero1 + numero2\n",
        "\t\treturn resultado"
      ],
      "metadata": {
        "id": "yIeB7YNkhAdQ"
      },
      "execution_count": 9,
      "outputs": []
    },
    {
      "cell_type": "code",
      "metadata": {
        "colab": {
          "base_uri": "https://localhost:8080/"
        },
        "id": "2bb37418",
        "outputId": "548a9532-f9b9-47b3-cf0a-b35fd216fbe7"
      },
      "source": [
        "import math\n",
        "\n",
        "def area_circulo(radio):\n",
        "  \"\"\"Calcula el área de un círculo dado su radio.\"\"\"\n",
        "  return math.pi * (radio ** 2)\n",
        "\n",
        "radio_ejemplo = 5\n",
        "area = area_circulo(radio_ejemplo)\n",
        "print(f\"El área de un círculo con radio {radio_ejemplo} es: {area}\")"
      ],
      "execution_count": 13,
      "outputs": [
        {
          "output_type": "stream",
          "name": "stdout",
          "text": [
            "El área de un círculo con radio 5 es: 78.53981633974483\n"
          ]
        }
      ]
    },
    {
      "cell_type": "code",
      "source": [],
      "metadata": {
        "id": "C6dQrS4qjXTd"
      },
      "execution_count": null,
      "outputs": []
    },
    {
      "cell_type": "code",
      "metadata": {
        "colab": {
          "base_uri": "https://localhost:8080/"
        },
        "id": "2cd0c791",
        "outputId": "7e234ea0-b1ba-4967-d873-6807a00f6ccb"
      },
      "source": [
        "def celsius_a_fahrenheit(celsius):\n",
        "  \"\"\"Convierte grados Celsius a Fahrenheit.\"\"\"\n",
        "  fahrenheit = (celsius * 9/5) + 32\n",
        "  return fahrenheit\n",
        "\n",
        "# Ejemplo de uso:\n",
        "celsius_ejemplo = 25\n",
        "fahrenheit_resultante = celsius_a_fahrenheit(celsius_ejemplo)\n",
        "print(f\"{celsius_ejemplo} grados Celsius son {fahrenheit_resultante} grados Fahrenheit.\")"
      ],
      "execution_count": 15,
      "outputs": [
        {
          "output_type": "stream",
          "name": "stdout",
          "text": [
            "25 grados Celsius son 77.0 grados Fahrenheit.\n"
          ]
        }
      ]
    },
    {
      "cell_type": "markdown",
      "source": [
        "**LIBRERIAS**"
      ],
      "metadata": {
        "id": "O6UKu0hxkTbj"
      }
    },
    {
      "cell_type": "code",
      "source": [
        "import pandas as pd\n"
      ],
      "metadata": {
        "id": "L47cp-QykXFY"
      },
      "execution_count": 16,
      "outputs": []
    },
    {
      "cell_type": "code",
      "source": [
        "pip install pandas"
      ],
      "metadata": {
        "id": "GROZpMYtlEYY"
      },
      "execution_count": null,
      "outputs": []
    },
    {
      "cell_type": "code",
      "metadata": {
        "colab": {
          "base_uri": "https://localhost:8080/",
          "height": 224
        },
        "id": "dd40a64b",
        "outputId": "15158716-9bee-4051-9495-c4db27816ed1"
      },
      "source": [
        "import pandas as pd\n",
        "\n",
        "# Crear un diccionario con datos de ejemplo\n",
        "datos_industria = {\n",
        "    'Producto': ['Tornillo', 'Tuerca', 'Arandela', 'Perno', 'Remache'],\n",
        "    'Material': ['Acero', 'Acero', 'Acero', 'Acero', 'Aluminio'],\n",
        "    'Stock': [10000, 15000, 20000, 5000, 8000],\n",
        "    'Precio_Unitario': [0.05, 0.03, 0.01, 0.10, 0.08],\n",
        "    'Proveedor': ['Proveedor A', 'Proveedor B', 'Proveedor A', 'Proveedor C', 'Proveedor B']\n",
        "}\n",
        "\n",
        "# Crear el DataFrame\n",
        "df_industria = pd.DataFrame(datos_industria)\n",
        "\n",
        "# Mostrar el DataFrame\n",
        "print(\"Ejemplo de DataFrame para una industria:\")\n",
        "display(df_industria)"
      ],
      "execution_count": 17,
      "outputs": [
        {
          "output_type": "stream",
          "name": "stdout",
          "text": [
            "Ejemplo de DataFrame para una industria:\n"
          ]
        },
        {
          "output_type": "display_data",
          "data": {
            "text/plain": [
              "   Producto  Material  Stock  Precio_Unitario    Proveedor\n",
              "0  Tornillo     Acero  10000             0.05  Proveedor A\n",
              "1    Tuerca     Acero  15000             0.03  Proveedor B\n",
              "2  Arandela     Acero  20000             0.01  Proveedor A\n",
              "3     Perno     Acero   5000             0.10  Proveedor C\n",
              "4   Remache  Aluminio   8000             0.08  Proveedor B"
            ],
            "text/html": [
              "\n",
              "  <div id=\"df-3c5bad92-66a0-4aad-b7ad-035f54624914\" class=\"colab-df-container\">\n",
              "    <div>\n",
              "<style scoped>\n",
              "    .dataframe tbody tr th:only-of-type {\n",
              "        vertical-align: middle;\n",
              "    }\n",
              "\n",
              "    .dataframe tbody tr th {\n",
              "        vertical-align: top;\n",
              "    }\n",
              "\n",
              "    .dataframe thead th {\n",
              "        text-align: right;\n",
              "    }\n",
              "</style>\n",
              "<table border=\"1\" class=\"dataframe\">\n",
              "  <thead>\n",
              "    <tr style=\"text-align: right;\">\n",
              "      <th></th>\n",
              "      <th>Producto</th>\n",
              "      <th>Material</th>\n",
              "      <th>Stock</th>\n",
              "      <th>Precio_Unitario</th>\n",
              "      <th>Proveedor</th>\n",
              "    </tr>\n",
              "  </thead>\n",
              "  <tbody>\n",
              "    <tr>\n",
              "      <th>0</th>\n",
              "      <td>Tornillo</td>\n",
              "      <td>Acero</td>\n",
              "      <td>10000</td>\n",
              "      <td>0.05</td>\n",
              "      <td>Proveedor A</td>\n",
              "    </tr>\n",
              "    <tr>\n",
              "      <th>1</th>\n",
              "      <td>Tuerca</td>\n",
              "      <td>Acero</td>\n",
              "      <td>15000</td>\n",
              "      <td>0.03</td>\n",
              "      <td>Proveedor B</td>\n",
              "    </tr>\n",
              "    <tr>\n",
              "      <th>2</th>\n",
              "      <td>Arandela</td>\n",
              "      <td>Acero</td>\n",
              "      <td>20000</td>\n",
              "      <td>0.01</td>\n",
              "      <td>Proveedor A</td>\n",
              "    </tr>\n",
              "    <tr>\n",
              "      <th>3</th>\n",
              "      <td>Perno</td>\n",
              "      <td>Acero</td>\n",
              "      <td>5000</td>\n",
              "      <td>0.10</td>\n",
              "      <td>Proveedor C</td>\n",
              "    </tr>\n",
              "    <tr>\n",
              "      <th>4</th>\n",
              "      <td>Remache</td>\n",
              "      <td>Aluminio</td>\n",
              "      <td>8000</td>\n",
              "      <td>0.08</td>\n",
              "      <td>Proveedor B</td>\n",
              "    </tr>\n",
              "  </tbody>\n",
              "</table>\n",
              "</div>\n",
              "    <div class=\"colab-df-buttons\">\n",
              "\n",
              "  <div class=\"colab-df-container\">\n",
              "    <button class=\"colab-df-convert\" onclick=\"convertToInteractive('df-3c5bad92-66a0-4aad-b7ad-035f54624914')\"\n",
              "            title=\"Convert this dataframe to an interactive table.\"\n",
              "            style=\"display:none;\">\n",
              "\n",
              "  <svg xmlns=\"http://www.w3.org/2000/svg\" height=\"24px\" viewBox=\"0 -960 960 960\">\n",
              "    <path d=\"M120-120v-720h720v720H120Zm60-500h600v-160H180v160Zm220 220h160v-160H400v160Zm0 220h160v-160H400v160ZM180-400h160v-160H180v160Zm440 0h160v-160H620v160ZM180-180h160v-160H180v160Zm440 0h160v-160H620v160Z\"/>\n",
              "  </svg>\n",
              "    </button>\n",
              "\n",
              "  <style>\n",
              "    .colab-df-container {\n",
              "      display:flex;\n",
              "      gap: 12px;\n",
              "    }\n",
              "\n",
              "    .colab-df-convert {\n",
              "      background-color: #E8F0FE;\n",
              "      border: none;\n",
              "      border-radius: 50%;\n",
              "      cursor: pointer;\n",
              "      display: none;\n",
              "      fill: #1967D2;\n",
              "      height: 32px;\n",
              "      padding: 0 0 0 0;\n",
              "      width: 32px;\n",
              "    }\n",
              "\n",
              "    .colab-df-convert:hover {\n",
              "      background-color: #E2EBFA;\n",
              "      box-shadow: 0px 1px 2px rgba(60, 64, 67, 0.3), 0px 1px 3px 1px rgba(60, 64, 67, 0.15);\n",
              "      fill: #174EA6;\n",
              "    }\n",
              "\n",
              "    .colab-df-buttons div {\n",
              "      margin-bottom: 4px;\n",
              "    }\n",
              "\n",
              "    [theme=dark] .colab-df-convert {\n",
              "      background-color: #3B4455;\n",
              "      fill: #D2E3FC;\n",
              "    }\n",
              "\n",
              "    [theme=dark] .colab-df-convert:hover {\n",
              "      background-color: #434B5C;\n",
              "      box-shadow: 0px 1px 3px 1px rgba(0, 0, 0, 0.15);\n",
              "      filter: drop-shadow(0px 1px 2px rgba(0, 0, 0, 0.3));\n",
              "      fill: #FFFFFF;\n",
              "    }\n",
              "  </style>\n",
              "\n",
              "    <script>\n",
              "      const buttonEl =\n",
              "        document.querySelector('#df-3c5bad92-66a0-4aad-b7ad-035f54624914 button.colab-df-convert');\n",
              "      buttonEl.style.display =\n",
              "        google.colab.kernel.accessAllowed ? 'block' : 'none';\n",
              "\n",
              "      async function convertToInteractive(key) {\n",
              "        const element = document.querySelector('#df-3c5bad92-66a0-4aad-b7ad-035f54624914');\n",
              "        const dataTable =\n",
              "          await google.colab.kernel.invokeFunction('convertToInteractive',\n",
              "                                                    [key], {});\n",
              "        if (!dataTable) return;\n",
              "\n",
              "        const docLinkHtml = 'Like what you see? Visit the ' +\n",
              "          '<a target=\"_blank\" href=https://colab.research.google.com/notebooks/data_table.ipynb>data table notebook</a>'\n",
              "          + ' to learn more about interactive tables.';\n",
              "        element.innerHTML = '';\n",
              "        dataTable['output_type'] = 'display_data';\n",
              "        await google.colab.output.renderOutput(dataTable, element);\n",
              "        const docLink = document.createElement('div');\n",
              "        docLink.innerHTML = docLinkHtml;\n",
              "        element.appendChild(docLink);\n",
              "      }\n",
              "    </script>\n",
              "  </div>\n",
              "\n",
              "\n",
              "    <div id=\"df-ea125e7c-370b-4cd4-9c5d-edd74cb56409\">\n",
              "      <button class=\"colab-df-quickchart\" onclick=\"quickchart('df-ea125e7c-370b-4cd4-9c5d-edd74cb56409')\"\n",
              "                title=\"Suggest charts\"\n",
              "                style=\"display:none;\">\n",
              "\n",
              "<svg xmlns=\"http://www.w3.org/2000/svg\" height=\"24px\"viewBox=\"0 0 24 24\"\n",
              "     width=\"24px\">\n",
              "    <g>\n",
              "        <path d=\"M19 3H5c-1.1 0-2 .9-2 2v14c0 1.1.9 2 2 2h14c1.1 0 2-.9 2-2V5c0-1.1-.9-2-2-2zM9 17H7v-7h2v7zm4 0h-2V7h2v10zm4 0h-2v-4h2v4z\"/>\n",
              "    </g>\n",
              "</svg>\n",
              "      </button>\n",
              "\n",
              "<style>\n",
              "  .colab-df-quickchart {\n",
              "      --bg-color: #E8F0FE;\n",
              "      --fill-color: #1967D2;\n",
              "      --hover-bg-color: #E2EBFA;\n",
              "      --hover-fill-color: #174EA6;\n",
              "      --disabled-fill-color: #AAA;\n",
              "      --disabled-bg-color: #DDD;\n",
              "  }\n",
              "\n",
              "  [theme=dark] .colab-df-quickchart {\n",
              "      --bg-color: #3B4455;\n",
              "      --fill-color: #D2E3FC;\n",
              "      --hover-bg-color: #434B5C;\n",
              "      --hover-fill-color: #FFFFFF;\n",
              "      --disabled-bg-color: #3B4455;\n",
              "      --disabled-fill-color: #666;\n",
              "  }\n",
              "\n",
              "  .colab-df-quickchart {\n",
              "    background-color: var(--bg-color);\n",
              "    border: none;\n",
              "    border-radius: 50%;\n",
              "    cursor: pointer;\n",
              "    display: none;\n",
              "    fill: var(--fill-color);\n",
              "    height: 32px;\n",
              "    padding: 0;\n",
              "    width: 32px;\n",
              "  }\n",
              "\n",
              "  .colab-df-quickchart:hover {\n",
              "    background-color: var(--hover-bg-color);\n",
              "    box-shadow: 0 1px 2px rgba(60, 64, 67, 0.3), 0 1px 3px 1px rgba(60, 64, 67, 0.15);\n",
              "    fill: var(--button-hover-fill-color);\n",
              "  }\n",
              "\n",
              "  .colab-df-quickchart-complete:disabled,\n",
              "  .colab-df-quickchart-complete:disabled:hover {\n",
              "    background-color: var(--disabled-bg-color);\n",
              "    fill: var(--disabled-fill-color);\n",
              "    box-shadow: none;\n",
              "  }\n",
              "\n",
              "  .colab-df-spinner {\n",
              "    border: 2px solid var(--fill-color);\n",
              "    border-color: transparent;\n",
              "    border-bottom-color: var(--fill-color);\n",
              "    animation:\n",
              "      spin 1s steps(1) infinite;\n",
              "  }\n",
              "\n",
              "  @keyframes spin {\n",
              "    0% {\n",
              "      border-color: transparent;\n",
              "      border-bottom-color: var(--fill-color);\n",
              "      border-left-color: var(--fill-color);\n",
              "    }\n",
              "    20% {\n",
              "      border-color: transparent;\n",
              "      border-left-color: var(--fill-color);\n",
              "      border-top-color: var(--fill-color);\n",
              "    }\n",
              "    30% {\n",
              "      border-color: transparent;\n",
              "      border-left-color: var(--fill-color);\n",
              "      border-top-color: var(--fill-color);\n",
              "      border-right-color: var(--fill-color);\n",
              "    }\n",
              "    40% {\n",
              "      border-color: transparent;\n",
              "      border-right-color: var(--fill-color);\n",
              "      border-top-color: var(--fill-color);\n",
              "    }\n",
              "    60% {\n",
              "      border-color: transparent;\n",
              "      border-right-color: var(--fill-color);\n",
              "    }\n",
              "    80% {\n",
              "      border-color: transparent;\n",
              "      border-right-color: var(--fill-color);\n",
              "      border-bottom-color: var(--fill-color);\n",
              "    }\n",
              "    90% {\n",
              "      border-color: transparent;\n",
              "      border-bottom-color: var(--fill-color);\n",
              "    }\n",
              "  }\n",
              "</style>\n",
              "\n",
              "      <script>\n",
              "        async function quickchart(key) {\n",
              "          const quickchartButtonEl =\n",
              "            document.querySelector('#' + key + ' button');\n",
              "          quickchartButtonEl.disabled = true;  // To prevent multiple clicks.\n",
              "          quickchartButtonEl.classList.add('colab-df-spinner');\n",
              "          try {\n",
              "            const charts = await google.colab.kernel.invokeFunction(\n",
              "                'suggestCharts', [key], {});\n",
              "          } catch (error) {\n",
              "            console.error('Error during call to suggestCharts:', error);\n",
              "          }\n",
              "          quickchartButtonEl.classList.remove('colab-df-spinner');\n",
              "          quickchartButtonEl.classList.add('colab-df-quickchart-complete');\n",
              "        }\n",
              "        (() => {\n",
              "          let quickchartButtonEl =\n",
              "            document.querySelector('#df-ea125e7c-370b-4cd4-9c5d-edd74cb56409 button');\n",
              "          quickchartButtonEl.style.display =\n",
              "            google.colab.kernel.accessAllowed ? 'block' : 'none';\n",
              "        })();\n",
              "      </script>\n",
              "    </div>\n",
              "\n",
              "  <div id=\"id_2d595f73-ea5a-4a23-9c6e-ccf0e396d78c\">\n",
              "    <style>\n",
              "      .colab-df-generate {\n",
              "        background-color: #E8F0FE;\n",
              "        border: none;\n",
              "        border-radius: 50%;\n",
              "        cursor: pointer;\n",
              "        display: none;\n",
              "        fill: #1967D2;\n",
              "        height: 32px;\n",
              "        padding: 0 0 0 0;\n",
              "        width: 32px;\n",
              "      }\n",
              "\n",
              "      .colab-df-generate:hover {\n",
              "        background-color: #E2EBFA;\n",
              "        box-shadow: 0px 1px 2px rgba(60, 64, 67, 0.3), 0px 1px 3px 1px rgba(60, 64, 67, 0.15);\n",
              "        fill: #174EA6;\n",
              "      }\n",
              "\n",
              "      [theme=dark] .colab-df-generate {\n",
              "        background-color: #3B4455;\n",
              "        fill: #D2E3FC;\n",
              "      }\n",
              "\n",
              "      [theme=dark] .colab-df-generate:hover {\n",
              "        background-color: #434B5C;\n",
              "        box-shadow: 0px 1px 3px 1px rgba(0, 0, 0, 0.15);\n",
              "        filter: drop-shadow(0px 1px 2px rgba(0, 0, 0, 0.3));\n",
              "        fill: #FFFFFF;\n",
              "      }\n",
              "    </style>\n",
              "    <button class=\"colab-df-generate\" onclick=\"generateWithVariable('df_industria')\"\n",
              "            title=\"Generate code using this dataframe.\"\n",
              "            style=\"display:none;\">\n",
              "\n",
              "  <svg xmlns=\"http://www.w3.org/2000/svg\" height=\"24px\"viewBox=\"0 0 24 24\"\n",
              "       width=\"24px\">\n",
              "    <path d=\"M7,19H8.4L18.45,9,17,7.55,7,17.6ZM5,21V16.75L18.45,3.32a2,2,0,0,1,2.83,0l1.4,1.43a1.91,1.91,0,0,1,.58,1.4,1.91,1.91,0,0,1-.58,1.4L9.25,21ZM18.45,9,17,7.55Zm-12,3A5.31,5.31,0,0,0,4.9,8.1,5.31,5.31,0,0,0,1,6.5,5.31,5.31,0,0,0,4.9,4.9,5.31,5.31,0,0,0,6.5,1,5.31,5.31,0,0,0,8.1,4.9,5.31,5.31,0,0,0,12,6.5,5.46,5.46,0,0,0,6.5,12Z\"/>\n",
              "  </svg>\n",
              "    </button>\n",
              "    <script>\n",
              "      (() => {\n",
              "      const buttonEl =\n",
              "        document.querySelector('#id_2d595f73-ea5a-4a23-9c6e-ccf0e396d78c button.colab-df-generate');\n",
              "      buttonEl.style.display =\n",
              "        google.colab.kernel.accessAllowed ? 'block' : 'none';\n",
              "\n",
              "      buttonEl.onclick = () => {\n",
              "        google.colab.notebook.generateWithVariable('df_industria');\n",
              "      }\n",
              "      })();\n",
              "    </script>\n",
              "  </div>\n",
              "\n",
              "    </div>\n",
              "  </div>\n"
            ],
            "application/vnd.google.colaboratory.intrinsic+json": {
              "type": "dataframe",
              "variable_name": "df_industria",
              "summary": "{\n  \"name\": \"df_industria\",\n  \"rows\": 5,\n  \"fields\": [\n    {\n      \"column\": \"Producto\",\n      \"properties\": {\n        \"dtype\": \"string\",\n        \"num_unique_values\": 5,\n        \"samples\": [\n          \"Tuerca\",\n          \"Remache\",\n          \"Arandela\"\n        ],\n        \"semantic_type\": \"\",\n        \"description\": \"\"\n      }\n    },\n    {\n      \"column\": \"Material\",\n      \"properties\": {\n        \"dtype\": \"category\",\n        \"num_unique_values\": 2,\n        \"samples\": [\n          \"Aluminio\",\n          \"Acero\"\n        ],\n        \"semantic_type\": \"\",\n        \"description\": \"\"\n      }\n    },\n    {\n      \"column\": \"Stock\",\n      \"properties\": {\n        \"dtype\": \"number\",\n        \"std\": 5941,\n        \"min\": 5000,\n        \"max\": 20000,\n        \"num_unique_values\": 5,\n        \"samples\": [\n          15000,\n          8000\n        ],\n        \"semantic_type\": \"\",\n        \"description\": \"\"\n      }\n    },\n    {\n      \"column\": \"Precio_Unitario\",\n      \"properties\": {\n        \"dtype\": \"number\",\n        \"std\": 0.03646916505762094,\n        \"min\": 0.01,\n        \"max\": 0.1,\n        \"num_unique_values\": 5,\n        \"samples\": [\n          0.03,\n          0.08\n        ],\n        \"semantic_type\": \"\",\n        \"description\": \"\"\n      }\n    },\n    {\n      \"column\": \"Proveedor\",\n      \"properties\": {\n        \"dtype\": \"string\",\n        \"num_unique_values\": 3,\n        \"samples\": [\n          \"Proveedor A\",\n          \"Proveedor B\"\n        ],\n        \"semantic_type\": \"\",\n        \"description\": \"\"\n      }\n    }\n  ]\n}"
            }
          },
          "metadata": {}
        }
      ]
    }
  ]
}